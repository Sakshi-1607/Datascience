{
 "cells": [
  {
   "cell_type": "markdown",
   "metadata": {},
   "source": [
    "### Lab Title: Measuring Dispersion in Student Marks Dataset\n"
   ]
  },
  {
   "cell_type": "markdown",
   "metadata": {},
   "source": [
    "\n",
    "#### Problem Statement:\n",
    "Understanding the measures of dispersion, such as range, variance, and standard deviation, helps in analyzing the spread of student marks. This analysis provides insights into performance consistency and variability.\n"
   ]
  },
  {
   "cell_type": "markdown",
   "metadata": {},
   "source": [
    "\n",
    "#### Objective:\n",
    "- Compute the range, variance, and standard deviation for student marks.\n",
    "- Interpret these measures to understand data spread and consistency.\n"
   ]
  },
  {
   "cell_type": "markdown",
   "metadata": {},
   "source": [
    "\n",
    "#### Dataset:\n",
    "The dataset is taken from [Kaggle](https://www.kaggle.com/datasets/yasserh/student-marks-dataset) and contains the following fields:\n",
    "- `number_courses`: Number of courses taken by the student.\n",
    "- `time_study`: Time spent studying (in hours).\n",
    "- `Marks`: Student's marks.\n"
   ]
  },
  {
   "cell_type": "markdown",
   "metadata": {},
   "source": [
    "\n",
    "#### Requirements:\n",
    "- Python installed (version 3.x recommended).\n",
    "- Pandas and NumPy libraries installed (`pip install pandas numpy`).\n",
    "- Jupyter Notebook (optional but recommended for running the lab).\n"
   ]
  },
  {
   "cell_type": "markdown",
   "metadata": {},
   "source": [
    "\n",
    "#### Implementation:\n"
   ]
  },
  {
   "cell_type": "code",
   "execution_count": 1,
   "metadata": {},
   "outputs": [],
   "source": [
    "\n",
    "# Import necessary libraries\n",
    "import pandas as pd\n",
    "import numpy as np\n"
   ]
  },
  {
   "cell_type": "code",
   "execution_count": 2,
   "metadata": {},
   "outputs": [],
   "source": [
    "# Loading dataset\n",
    "df=pd.read_csv(\"Student_Marks.csv\")\n"
   ]
  },
  {
   "cell_type": "code",
   "execution_count": 3,
   "metadata": {},
   "outputs": [],
   "source": [
    "\n",
    "# Extract Marks column from Dataset\n",
    "marks=df['Marks']\n"
   ]
  },
  {
   "cell_type": "code",
   "execution_count": 4,
   "metadata": {},
   "outputs": [],
   "source": [
    "# Compute range, variance, and standard deviation\n",
    "range_marks=np.max(marks)-np.min(marks)\n",
    "variance_marks = np.var(marks) # Sample variance\n",
    "std_dev_marks = np.std(marks)# Sample standard deviation\n"
   ]
  },
  {
   "cell_type": "code",
   "execution_count": 5,
   "metadata": {},
   "outputs": [
    {
     "name": "stdout",
     "output_type": "stream",
     "text": [
      "Range of Marks: 49.69\n",
      "Variance of Marks: 203.1875658339\n",
      "Standard Deviation of Marks: 14.254387599399001\n"
     ]
    }
   ],
   "source": [
    "\n",
    "# Print results\n",
    "print(\"Range of Marks:\", range_marks)\n",
    "print(\"Variance of Marks:\", variance_marks)\n",
    "print(\"Standard Deviation of Marks:\", std_dev_marks)"
   ]
  },
  {
   "cell_type": "code",
   "execution_count": 6,
   "metadata": {},
   "outputs": [
    {
     "name": "stdout",
     "output_type": "stream",
     "text": [
      "Range of Marks: 49.69\n",
      "Variance of Marks: 203.1875658339\n",
      "Standard Deviation of Marks: 14.254387599399001\n"
     ]
    }
   ],
   "source": [
    "# Print results\n",
    "print(\"Range of Marks:\", range_marks)\n",
    "print(\"Variance of Marks:\", variance_marks)\n",
    "print(\"Standard Deviation of Marks:\", std_dev_marks)"
   ]
  },
  {
   "cell_type": "code",
   "execution_count": null,
   "metadata": {},
   "outputs": [],
   "source": []
  }
 ],
 "metadata": {
  "kernelspec": {
   "display_name": "Python 3 (ipykernel)",
   "language": "python",
   "name": "python3"
  },
  "language_info": {
   "codemirror_mode": {
    "name": "ipython",
    "version": 3
   },
   "file_extension": ".py",
   "mimetype": "text/x-python",
   "name": "python",
   "nbconvert_exporter": "python",
   "pygments_lexer": "ipython3",
   "version": "3.9.12"
  }
 },
 "nbformat": 4,
 "nbformat_minor": 2
}
