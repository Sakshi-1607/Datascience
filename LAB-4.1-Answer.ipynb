{
 "cells": [
  {
   "cell_type": "markdown",
   "id": "db4bd578-a2a0-4296-96c9-11074266f0a2",
   "metadata": {},
   "source": [
    "### Lab Title: Customer Data Cleaning for Credit Card Fraud Detection "
   ]
  },
  {
   "cell_type": "markdown",
   "id": "4bce3996-1e5e-4096-9159-78987fcce939",
   "metadata": {},
   "source": [
    "\n",
    "#### Problem Statement:\n",
    "\n",
    "The primary goal of this project is to preprocess and clean a dataset containing customer transaction data, which will be used for developing a credit card fraud detection system. The dataset presents several data quality issues that must be resolved to improve the reliability of machine learning models. These issues include:\n",
    "\n",
    "Missing Data: Certain records in the dataset are incomplete, with key values missing, potentially affecting the accuracy and integrity of the analysis.\n",
    "Duplicate Entries: The dataset contains repeated transaction records that need to be identified and removed to prevent them from impacting the results.\n",
    "Outlier Values: Some transaction amounts or other features are extreme and deviate significantly from typical values, which could distort the performance of the model."
   ]
  },
  {
   "cell_type": "markdown",
   "id": "d8b6762b-055f-43e3-903e-e72957338610",
   "metadata": {},
   "source": [
    "#### Objective:\n",
    "\n",
    "- Handle Missing Values: Address and manage missing data to ensure a complete dataset.\n",
    "- Remove Duplicates: Identify and eliminate duplicate records to avoid data redundancy.\n",
    "- Address Outliers: Detect and handle extreme values that could affect model performance.\n",
    "- Prepare Data for Modeling: Process and format the data for use in machine learning models.\n",
    "- Build Fraud Detection Model: Ensure the data is ready to train a model that can accurately identify fraudulent transactions."
   ]
  },
  {
   "cell_type": "markdown",
   "id": "db3d8cf9-d18e-4868-be9c-48c928216c8c",
   "metadata": {},
   "source": [
    "\n",
    "#### Requirements:\n",
    "- Python installed (version 3.x recommended).\n",
    "- Pandas and NumPy libraries installed (`pip install pandas numpy`).\n",
    "- Jupyter Notebook (optional but recommended for running the lab)."
   ]
  },
  {
   "cell_type": "code",
   "execution_count": 1,
   "id": "c9aaf479-e91e-4104-aca9-748f0b123f1b",
   "metadata": {},
   "outputs": [],
   "source": [
    "# Import necessary library\n",
    "import pandas as pd\n",
    "import numpy as np\n",
    "import matplotlib.pyplot as plt\n",
    "import seaborn as sns\n",
    "from sklearn.preprocessing import StandardScaler\n",
    "from sklearn.impute import SimpleImputer"
   ]
  },
  {
   "cell_type": "markdown",
   "id": "3e172216-ca4b-444e-9dca-45a950475b99",
   "metadata": {},
   "source": [
    "#### Loading the Dataset"
   ]
  },
  {
   "cell_type": "code",
   "execution_count": 2,
   "id": "06838d8c-c6bc-4dc6-b859-a76a7ec84739",
   "metadata": {},
   "outputs": [],
   "source": [
    "df=pd.read_csv(\"Customer_Transactions.csv\")"
   ]
  },
  {
   "cell_type": "code",
   "execution_count": 11,
   "id": "4d3cdf96",
   "metadata": {},
   "outputs": [
    {
     "data": {
      "text/plain": [
       "27500"
      ]
     },
     "execution_count": 11,
     "metadata": {},
     "output_type": "execute_result"
    }
   ],
   "source": [
    "df.size"
   ]
  },
  {
   "cell_type": "code",
   "execution_count": 12,
   "id": "ef7ded94-176d-4305-bea3-081a0030bdcd",
   "metadata": {},
   "outputs": [
    {
     "name": "stdout",
     "output_type": "stream",
     "text": [
      "tranDate      0\n",
      "custName      0\n",
      "cardNum       0\n",
      "zipCode       0\n",
      "tranAmount    0\n",
      "dtype: int64\n",
      "\n",
      "After handling missing data once again check it as below\n",
      "tranDate      0\n",
      "custName      0\n",
      "cardNum       0\n",
      "zipCode       0\n",
      "tranAmount    0\n",
      "dtype: int64\n",
      "tranDate      0.0\n",
      "custName      0.0\n",
      "cardNum       0.0\n",
      "zipCode       0.0\n",
      "tranAmount    0.0\n",
      "dtype: float64\n"
     ]
    }
   ],
   "source": [
    "# **Part 1: Handling and Summarizing Missing Values **\n",
    "# Handling missing data \n",
    "print(df.isnull().sum())\n",
    "# Check the number of missing values in each column\n",
    "print(\"\\nAfter handling missing data once again check it as below\")\n",
    "print(df.isnull().sum())\n",
    "# For percentage of missing values\n",
    "missing=df.isnull().sum()/df.size\n",
    "print(missing*100)\n"
   ]
  },
  {
   "cell_type": "code",
   "execution_count": 20,
   "id": "923f09c8-2429-4c1e-8809-e715dabdc422",
   "metadata": {},
   "outputs": [
    {
     "name": "stdout",
     "output_type": "stream",
     "text": [
      "1650.0\n"
     ]
    }
   ],
   "source": [
    "# **Part 2: Dropping Missing Values **\n",
    "# Dropping Rows with Missing Data\n",
    "\n",
    "# Drop rows with any missing values\n",
    "df_drop=df.dropna()\n",
    "\n",
    "# Drop rows with missing values only in a specific column\n",
    "df_drop_col=df.dropna(subset=['cardNum','zipCode'],inplace=True)\n",
    "df_drop_col1=df['cardNum'].dropna()\n",
    "\n",
    "# Drop columns with any missing values\n",
    "df_drop_it=df.dropna(axis=1)\n",
    "\n",
    "# Drop columns where more than a certain percentage of values are missing\n",
    "threshold = len(df)*0.3 # if more than 30% data is missing\n",
    "df_cleaned = df.dropna(thresh=threshold,axis=1)\n",
    "print(threshold)"
   ]
  },
  {
   "cell_type": "code",
   "execution_count": 19,
   "id": "ee1246ce",
   "metadata": {},
   "outputs": [
    {
     "name": "stdout",
     "output_type": "stream",
     "text": [
      "Dropping cardNum: None\n",
      "None\n"
     ]
    },
    {
     "data": {
      "text/html": [
       "<div>\n",
       "<style scoped>\n",
       "    .dataframe tbody tr th:only-of-type {\n",
       "        vertical-align: middle;\n",
       "    }\n",
       "\n",
       "    .dataframe tbody tr th {\n",
       "        vertical-align: top;\n",
       "    }\n",
       "\n",
       "    .dataframe thead th {\n",
       "        text-align: right;\n",
       "    }\n",
       "</style>\n",
       "<table border=\"1\" class=\"dataframe\">\n",
       "  <thead>\n",
       "    <tr style=\"text-align: right;\">\n",
       "      <th></th>\n",
       "      <th>tranDate</th>\n",
       "      <th>custName</th>\n",
       "      <th>cardNum</th>\n",
       "      <th>zipCode</th>\n",
       "      <th>tranAmount</th>\n",
       "    </tr>\n",
       "  </thead>\n",
       "  <tbody>\n",
       "    <tr>\n",
       "      <th>0</th>\n",
       "      <td>False</td>\n",
       "      <td>False</td>\n",
       "      <td>False</td>\n",
       "      <td>False</td>\n",
       "      <td>False</td>\n",
       "    </tr>\n",
       "    <tr>\n",
       "      <th>1</th>\n",
       "      <td>False</td>\n",
       "      <td>False</td>\n",
       "      <td>False</td>\n",
       "      <td>False</td>\n",
       "      <td>False</td>\n",
       "    </tr>\n",
       "    <tr>\n",
       "      <th>2</th>\n",
       "      <td>False</td>\n",
       "      <td>False</td>\n",
       "      <td>False</td>\n",
       "      <td>False</td>\n",
       "      <td>False</td>\n",
       "    </tr>\n",
       "    <tr>\n",
       "      <th>3</th>\n",
       "      <td>False</td>\n",
       "      <td>False</td>\n",
       "      <td>False</td>\n",
       "      <td>False</td>\n",
       "      <td>False</td>\n",
       "    </tr>\n",
       "    <tr>\n",
       "      <th>4</th>\n",
       "      <td>False</td>\n",
       "      <td>False</td>\n",
       "      <td>False</td>\n",
       "      <td>False</td>\n",
       "      <td>False</td>\n",
       "    </tr>\n",
       "    <tr>\n",
       "      <th>...</th>\n",
       "      <td>...</td>\n",
       "      <td>...</td>\n",
       "      <td>...</td>\n",
       "      <td>...</td>\n",
       "      <td>...</td>\n",
       "    </tr>\n",
       "    <tr>\n",
       "      <th>5495</th>\n",
       "      <td>False</td>\n",
       "      <td>False</td>\n",
       "      <td>False</td>\n",
       "      <td>False</td>\n",
       "      <td>False</td>\n",
       "    </tr>\n",
       "    <tr>\n",
       "      <th>5496</th>\n",
       "      <td>False</td>\n",
       "      <td>False</td>\n",
       "      <td>False</td>\n",
       "      <td>False</td>\n",
       "      <td>False</td>\n",
       "    </tr>\n",
       "    <tr>\n",
       "      <th>5497</th>\n",
       "      <td>False</td>\n",
       "      <td>False</td>\n",
       "      <td>False</td>\n",
       "      <td>False</td>\n",
       "      <td>False</td>\n",
       "    </tr>\n",
       "    <tr>\n",
       "      <th>5498</th>\n",
       "      <td>False</td>\n",
       "      <td>False</td>\n",
       "      <td>False</td>\n",
       "      <td>False</td>\n",
       "      <td>False</td>\n",
       "    </tr>\n",
       "    <tr>\n",
       "      <th>5499</th>\n",
       "      <td>False</td>\n",
       "      <td>False</td>\n",
       "      <td>False</td>\n",
       "      <td>False</td>\n",
       "      <td>False</td>\n",
       "    </tr>\n",
       "  </tbody>\n",
       "</table>\n",
       "<p>5500 rows × 5 columns</p>\n",
       "</div>"
      ],
      "text/plain": [
       "      tranDate  custName  cardNum  zipCode  tranAmount\n",
       "0        False     False    False    False       False\n",
       "1        False     False    False    False       False\n",
       "2        False     False    False    False       False\n",
       "3        False     False    False    False       False\n",
       "4        False     False    False    False       False\n",
       "...        ...       ...      ...      ...         ...\n",
       "5495     False     False    False    False       False\n",
       "5496     False     False    False    False       False\n",
       "5497     False     False    False    False       False\n",
       "5498     False     False    False    False       False\n",
       "5499     False     False    False    False       False\n",
       "\n",
       "[5500 rows x 5 columns]"
      ]
     },
     "execution_count": 19,
     "metadata": {},
     "output_type": "execute_result"
    }
   ],
   "source": [
    "print(\"Dropping cardNum:\",df_drop_col)\n",
    "print(df_drop_col)"
   ]
  },
  {
   "cell_type": "code",
   "execution_count": null,
   "id": "c58c7251-9381-47bc-9211-207317a8d917",
   "metadata": {},
   "outputs": [],
   "source": [
    "# **Part 3: Filling Missing Values (Imputation) **\n",
    "\n",
    "\n",
    "# Fill all missing values with a constant value, such as 0 or \"Unknown\"\n",
    "df_numeric=df.fillna(0)\n",
    "df_cat=df.fillna(\"Unknown\")"
   ]
  },
  {
   "cell_type": "code",
   "execution_count": null,
   "id": "e5a8adeb-2e67-4b0d-bc1f-e5c2b9abcc93",
   "metadata": {},
   "outputs": [],
   "source": [
    "\n",
    "df = df.drop_duplicates()"
   ]
  },
  {
   "cell_type": "code",
   "execution_count": 22,
   "id": "8d20e06a-ba1b-4de3-bb89-95d31b4dabb9",
   "metadata": {},
   "outputs": [
    {
     "data": {
      "image/png": "[encoded data removed]",
      "text/plain": [
       "<Figure size 432x288 with 1 Axes>"
      ]
     },
     "metadata": {
      "needs_background": "light"
     },
     "output_type": "display_data"
    }
   ],
   "source": [
    "# **Part 4: Handling  and Visualizing Outliers **\n",
    "# A box plot is a good way to identify potential outliers in the Amount column.\n",
    "sns.boxplot(x=df['tranAmount'])\n",
    "plt.title(\"Transaction AMount distribution\")\n",
    "plt.show()\n",
    "\n"
   ]
  },
  {
   "cell_type": "code",
   "execution_count": 23,
   "id": "569b83e7",
   "metadata": {},
   "outputs": [
    {
     "data": {
      "text/plain": [
       "count    5500.000000\n",
       "mean     2515.238545\n",
       "std      1411.332226\n",
       "min       100.000000\n",
       "25%      1301.750000\n",
       "50%      2504.000000\n",
       "75%      3728.500000\n",
       "max      4999.000000\n",
       "Name: tranAmount, dtype: float64"
      ]
     },
     "execution_count": 23,
     "metadata": {},
     "output_type": "execute_result"
    }
   ],
   "source": [
    "df['tranAmount'].describe()"
   ]
  },
  {
   "cell_type": "markdown",
   "id": "d3a90c40-98a3-4d04-8c43-aed96740b380",
   "metadata": {},
   "source": [
    "<h2>Removing Outliers:</h2>\n",
    "\n",
    "We can remove values that are outside a defined range (e.g., values that are 1.5 times the interquartile range above the 75th percentile or below the 25th percentile)."
   ]
  },
  {
   "cell_type": "code",
   "execution_count": 24,
   "id": "462a5fc8-734d-432c-add6-880cc38869d5",
   "metadata": {},
   "outputs": [
    {
     "data": {
      "text/plain": [
       "2426.75"
      ]
     },
     "execution_count": 24,
     "metadata": {},
     "output_type": "execute_result"
    }
   ],
   "source": [
    "# **Part 5: Removing Outliers **\n",
    "# We can remove values that are outside a defined range (e.g., values that are 1.5 times the interquartile range above the 75th percentile or below the 25th percentile).\n",
    "Q1=df['tranAmount'].quantile(0.25)\n",
    "Q3=df['tranAmount'].quantile(0.75)\n",
    "IQR=Q3-Q1\n",
    "IQR\n",
    "\n"
   ]
  },
  {
   "cell_type": "code",
   "execution_count": null,
   "id": "d0da3b00-a0dc-416d-81c3-f2773ce3e586",
   "metadata": {},
   "outputs": [],
   "source": [
    "# **Part 6: Normalization and Standardization **\n",
    "scaler=StandardScaler()\n",
    "df['tranAmount']=scaler.fit_transform(df['tranAmount'])\n"
   ]
  },
  {
   "cell_type": "code",
   "execution_count": 27,
   "id": "a9d14719-5277-4096-a706-992c7a511505",
   "metadata": {},
   "outputs": [
    {
     "name": "stdout",
     "output_type": "stream",
     "text": [
      "Check for missing data again:\n",
      " tranDate      0\n",
      "custName      0\n",
      "cardNum       0\n",
      "zipCode       0\n",
      "tranAmount    0\n",
      "dtype: int64\n",
      "Check for duplicates: 0\n"
     ]
    }
   ],
   "source": [
    "# **Part 7: Final Inspection and Ready for Modeling **\n",
    "\n",
    "# Check for missing data again\n",
    "\n",
    "print(\"Check for missing data again:\\n\",df.isnull().sum())\n",
    "# Check for duplicates\n",
    "\n",
    "print(\"Check for duplicates:\",df.duplicated().sum())"
   ]
  },
  {
   "cell_type": "code",
   "execution_count": null,
   "id": "e8d65caa-a86b-432d-83f4-ae7be6929d93",
   "metadata": {},
   "outputs": [],
   "source": []
  }
 ],
 "metadata": {
  "kernelspec": {
   "display_name": "Python 3 (ipykernel)",
   "language": "python",
   "name": "python3"
  },
  "language_info": {
   "codemirror_mode": {
    "name": "ipython",
    "version": 3
   },
   "file_extension": ".py",
   "mimetype": "text/x-python",
   "name": "python",
   "nbconvert_exporter": "python",
   "pygments_lexer": "ipython3",
   "version": "3.9.12"
  }
 },
 "nbformat": 4,
 "nbformat_minor": 5
}
