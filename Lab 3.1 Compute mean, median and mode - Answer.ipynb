{
 "cells": [
  {
   "cell_type": "markdown",
   "metadata": {},
   "source": [
    "### Lab Title: Analyzing Monthly Sales Data for Central Tendencies\n"
   ]
  },
  {
   "cell_type": "markdown",
   "metadata": {},
   "source": [
    "\n",
    "#### Problem Statement:\n",
    "Understanding the central tendencies (mean, median, and mode) of monthly sales data can provide insights into business performance. By analyzing these metrics, businesses can identify trends and make informed decisions.\n"
   ]
  },
  {
   "cell_type": "markdown",
   "metadata": {},
   "source": [
    "\n",
    "#### Objective:\n",
    "- Compute the mean, median, and mode of monthly sales data.\n",
    "- Interpret the significance of these measures in business analytics.\n"
   ]
  },
  {
   "cell_type": "markdown",
   "metadata": {},
   "source": [
    "\n",
    "#### Dataset:\n",
    "A sample dataset containing monthly sales figures:\n",
    "\n",
    "| Month  | Sales ($) |\n",
    "|--------|----------|\n",
    "| Jan    | 15000    |\n",
    "| Feb    | 18000    |\n",
    "| Mar    | 17000    |\n",
    "| Apr    | 16000    |\n",
    "| May    | 20000    |\n",
    "| Jun    | 19000    |\n",
    "| Jul    | 17000    |\n",
    "| Aug    | 21000    |\n",
    "| Sep    | 22000    |\n",
    "| Oct    | 18000    |\n",
    "| Nov    | 17000    |\n",
    "| Dec    | 20000    |\n"
   ]
  },
  {
   "cell_type": "markdown",
   "metadata": {},
   "source": [
    "\n",
    "#### Requirements:\n",
    "- Python installed (version 3.x recommended).\n",
    "- NumPy and SciPy libraries installed (`pip install numpy scipy`).\n",
    "- Jupyter Notebook (optional but recommended for running the lab).\n"
   ]
  },
  {
   "cell_type": "markdown",
   "metadata": {},
   "source": [
    "\n",
    "#### Implementation:\n"
   ]
  },
  {
   "cell_type": "code",
   "execution_count": 1,
   "metadata": {},
   "outputs": [],
   "source": [
    "\n",
    "# Import necessary libraries\n",
    "import numpy as np\n",
    "from scipy import stats\n"
   ]
  },
  {
   "cell_type": "code",
   "execution_count": 2,
   "metadata": {},
   "outputs": [
    {
     "data": {
      "text/plain": [
       "array([15000, 18000, 17000, 16000, 20000, 19000, 17000, 21000, 22000,\n",
       "       18000, 17000, 20000])"
      ]
     },
     "execution_count": 2,
     "metadata": {},
     "output_type": "execute_result"
    }
   ],
   "source": [
    "\n",
    "# Define monthly sales data\n",
    "sales_data=np.array([15000,18000,17000,16000,20000,19000,\n",
    "                     17000,21000,22000,18000,17000,20000])\n",
    "sales_data\n"
   ]
  },
  {
   "cell_type": "code",
   "execution_count": 12,
   "metadata": {},
   "outputs": [],
   "source": [
    "\n",
    "# Compute mean, median, and mode\n",
    "mean_sales=np.mean(sales_data)\n",
    "median_sales = np.median(sales_data)\n",
    "mode_sales=stats.mode(sales_data).mode[0]\n"
   ]
  },
  {
   "cell_type": "code",
   "execution_count": 13,
   "metadata": {},
   "outputs": [
    {
     "name": "stdout",
     "output_type": "stream",
     "text": [
      "Mean Sales: 18333.333333333332\n",
      "Median Sales: 18000.0\n",
      "Mode Sales: 17000\n"
     ]
    }
   ],
   "source": [
    "\n",
    "# Print results\n",
    "print(\"Mean Sales:\", mean_sales)\n",
    "print(\"Median Sales:\", median_sales)\n",
    "print(\"Mode Sales:\", mode_sales)"
   ]
  },
  {
   "cell_type": "code",
   "execution_count": null,
   "metadata": {},
   "outputs": [],
   "source": []
  }
 ],
 "metadata": {
  "kernelspec": {
   "display_name": "Python 3 (ipykernel)",
   "language": "python",
   "name": "python3"
  },
  "language_info": {
   "codemirror_mode": {
    "name": "ipython",
    "version": 3
   },
   "file_extension": ".py",
   "mimetype": "text/x-python",
   "name": "python",
   "nbconvert_exporter": "python",
   "pygments_lexer": "ipython3",
   "version": "3.9.12"
  }
 },
 "nbformat": 4,
 "nbformat_minor": 2
}
